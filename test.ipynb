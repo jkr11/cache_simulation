{
 "cells": [
  {
   "cell_type": "code",
   "execution_count": 35,
   "metadata": {},
   "outputs": [],
   "source": [
    "import pandas as pd\n",
    "import matplotlib.pyplot as plt\n",
    "import os\n",
    "import subprocess\n",
    "import csv"
   ]
  },
  {
   "cell_type": "code",
   "execution_count": 55,
   "metadata": {},
   "outputs": [],
   "source": [
    "def is_power_of_two(n):\n",
    "  return (n & (n - 1) == 0) and n != 0\n",
    "\n",
    "\n",
    "def generate_cache_accesses(cache_line_size,\n",
    "                            num_cache_lines=512,\n",
    "                            num_operations=100):\n",
    "  import random\n",
    "  base_addresses = [i * cache_line_size for i in range(num_cache_lines)]\n",
    "  data_values = [\n",
    "      \"0x11111111\",\n",
    "      \"0x22222222\",\n",
    "      \"0x33333333\",\n",
    "      \"0x44444444\",\n",
    "      \"0x55555555\",\n",
    "      \"0x66666666\",\n",
    "      \"0x77777777\",\n",
    "      \"0x88888888\",\n",
    "      \"0x99999999\",\n",
    "      \"0x12345678\",\n",
    "      \"0x79824691\",\n",
    "      \"0x16420982\",\n",
    "      \"0x15946378\",\n",
    "      \"0x687b890a\",\n",
    "      \"0xf809b234\",\n",
    "  ]\n",
    "\n",
    "  accesses = []\n",
    "  for _ in range(num_operations):\n",
    "    base = random.choice(base_addresses)\n",
    "    offset = random.randint(0, cache_line_size - 1)  # Offset within cache line\n",
    "    address = base + offset\n",
    "    if random.choice([True, False]):\n",
    "      accesses.append([\"R\", f\"0x{address:08X}\", \"\"])\n",
    "    else:\n",
    "      data = random.choice(data_values)\n",
    "      accesses.append([\"W\", f\"0x{address:08X}\", data])\n",
    "\n",
    "  return accesses\n",
    "\n",
    "def save_accesses_to_csv(cache_line_size):\n",
    "  accesses = generate_cache_accesses(cache_line_size)\n",
    "\n",
    "  file_path = f\"cache_accesses_{cache_line_size}.csv\"\n",
    "\n",
    "  with open(file_path, mode=\"w\", newline=\"\") as file:\n",
    "    writer = csv.writer(file)\n",
    "    writer.writerow([\"Operation\", \"Address\", \"Data\"])\n",
    "    writer.writerows(accesses)\n",
    "\n",
    "  print(f\"Generated cache accesses and saved to {file_path}\")"
   ]
  },
  {
   "cell_type": "code",
   "execution_count": 96,
   "metadata": {},
   "outputs": [],
   "source": [
    "cache_line_sizes = [8,16,32, 64, 128]\n",
    "l1_cache_lines = [16, 32, 64]\n",
    "l2_cache_lines = [64, 128, 256]\n",
    "column_names = ['cycles', 'misses', 'hits', 'primitiveGateCount']\n",
    "\n",
    "\n",
    "def run_c_program(cache_line_size, l1_cache_lines, l2_cache_lines):\n",
    "  command = [\n",
    "      \"./project\", \"-c\", \"10000000\", \"--cacheline-size\",\n",
    "      str(cache_line_size), \"--l1-lines\",\n",
    "      str(l1_cache_lines), \"--l2-lines\",\n",
    "      str(l2_cache_lines), \"--l1-latency\", \"4\", \"--l2-latency\", \"16\",\n",
    "      \"--memory-latency\", \"50\", \"--tf=tracefile\", f\"cache_accesses_{cache_line_size}.csv\"\n",
    "  ]\n",
    "\n",
    "  result = subprocess.run(command, capture_output=True, text=True)\n",
    "  if result.returncode != 0:\n",
    "    print(f\"Error running C program: {result.stderr}\")"
   ]
  },
  {
   "cell_type": "code",
   "execution_count": 91,
   "metadata": {},
   "outputs": [],
   "source": [
    "def read_results_from_csv(filename):\n",
    "  if os.path.exists(filename):\n",
    "    return pd.read_csv(filename, names=column_names, header=None)\n",
    "  else:\n",
    "    print(f\"File {filename} not found.\")\n",
    "    return pd.DataFrame()"
   ]
  },
  {
   "cell_type": "code",
   "execution_count": 92,
   "metadata": {},
   "outputs": [
    {
     "name": "stdout",
     "output_type": "stream",
     "text": [
      "Generated cache accesses and saved to cache_accesses_8.csv\n",
      "Generated cache accesses and saved to cache_accesses_16.csv\n",
      "Generated cache accesses and saved to cache_accesses_32.csv\n",
      "Generated cache accesses and saved to cache_accesses_64.csv\n",
      "Generated cache accesses and saved to cache_accesses_128.csv\n"
     ]
    }
   ],
   "source": [
    "for size in cache_line_sizes:\n",
    "    save_accesses_to_csv(size)"
   ]
  },
  {
   "cell_type": "code",
   "execution_count": 93,
   "metadata": {},
   "outputs": [],
   "source": [
    "results_df = pd.DataFrame()"
   ]
  },
  {
   "cell_type": "code",
   "execution_count": 109,
   "metadata": {},
   "outputs": [],
   "source": [
    "for cache_line_size in cache_line_sizes:\n",
    "  for l1_lines in l1_cache_lines:\n",
    "    for l2_lines in l2_cache_lines:\n",
    "      for i in range(3):\n",
    "        run_c_program(cache_line_size, l1_lines, l2_lines)\n",
    "\n",
    "        filename = 'results.csv'\n",
    "        df = read_results_from_csv(filename)\n",
    "        df['cache_line_size'] = cache_line_size\n",
    "        df['l1_cache_lines'] = l1_lines\n",
    "        df['l2_cache_lines'] = l2_lines\n",
    "        results_df = pd.concat([results_df, df], ignore_index=True)\n"
   ]
  },
  {
   "cell_type": "code",
   "execution_count": null,
   "metadata": {},
   "outputs": [],
   "source": []
  }
 ],
 "metadata": {
  "kernelspec": {
   "display_name": "Python 3",
   "language": "python",
   "name": "python3"
  },
  "language_info": {
   "codemirror_mode": {
    "name": "ipython",
    "version": 3
   },
   "file_extension": ".py",
   "mimetype": "text/x-python",
   "name": "python",
   "nbconvert_exporter": "python",
   "pygments_lexer": "ipython3",
   "version": "3.12.3"
  }
 },
 "nbformat": 4,
 "nbformat_minor": 2
}
